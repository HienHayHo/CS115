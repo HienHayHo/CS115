{
  "cells": [
    {
      "cell_type": "code",
      "execution_count": 1,
      "metadata": {
        "id": "BrIvMBSneFjF"
      },
      "outputs": [],
      "source": [
        "import numpy as np\n",
        "import pandas as pd\n",
        "from sklearn.metrics import accuracy_score, classification_report\n",
        "import random"
      ]
    },
    {
      "cell_type": "code",
      "execution_count": 2,
      "metadata": {
        "id": "iDZwPjrIhYEk"
      },
      "outputs": [],
      "source": [
        "def r2score(y_pred, y):\n",
        "    rss = np.sum((y_pred - y) ** 2)\n",
        "    tss = np.sum((y-y.mean()) ** 2)\n",
        "\n",
        "    r2 = 1 - (rss / tss)\n",
        "    return r2"
      ]
    },
    {
      "cell_type": "code",
      "execution_count": 3,
      "metadata": {
        "id": "x5Vf2vVPei_f"
      },
      "outputs": [],
      "source": [
        "class Linear_Regression:\n",
        "  def __init__(self, X_Train, Y_Target, num_epoch = 10000, learning_rate = 0.0001):\n",
        "    self.X_Train = X_Train\n",
        "    self.Y_Target = Y_Target\n",
        "    self.num_samples = X_Train.shape[0]\n",
        "    self.learning_rate = learning_rate\n",
        "    self.theta = np.array([random.gauss(mu=1.0, sigma=0.01) for _ in range(X_Train.shape[1])]).reshape(-1, 1)\n",
        "    self.losses = []\n",
        "    self.num_epoch = num_epoch\n",
        "\n",
        "  def predict(self, X_data):\n",
        "    y_pred = X_data.dot(self.theta)\n",
        "    return y_pred\n",
        "\n",
        "  def compute_loss(self, y_pred, y_target):\n",
        "    loss = (y_pred - y_target)*(y_pred - y_target)\n",
        "    return np.sum(loss)\n",
        "\n",
        "  def fit(self):\n",
        "    for epoch in range(self.num_epoch):\n",
        "      y_pred = self.predict(self.X_Train)\n",
        "      loss = self.compute_loss(y_pred, self.Y_Target)\n",
        "      self.losses.append(loss)\n",
        "      k = 2*(y_pred-self.Y_Target)\n",
        "      gradient = self.X_Train.T.dot(k)/self.num_samples\n",
        "      self.theta = self.theta - self.learning_rate*gradient\n",
        "\n",
        "    return (self.losses), self.theta\n",
        "\n"
      ]
    },
    {
      "cell_type": "code",
      "execution_count": 4,
      "metadata": {
        "id": "J-72CohgwcZt"
      },
      "outputs": [],
      "source": [
        "X_data = np.array([1, 2, 3, 5, 7, 10, 11, 15, 20, 25, 33, 38, 40, 42, 45, 50, 55, 56]).reshape(-1, 1)\n",
        "X_raw = X_data\n",
        "X_data = np.hstack(((np.ones((X_data.shape[0], 1))), X_data))\n",
        "y_data = np.array([2, 4.1, 5.9, 9.8, 13.6, 21, 22, 28, 39, 44, 67, 80, 79.9, 83.3, 90.5, 99.9, 110.1, 111]).reshape(-1, 1)"
      ]
    },
    {
      "cell_type": "code",
      "execution_count": 5,
      "metadata": {
        "colab": {
          "base_uri": "https://localhost:8080/"
        },
        "id": "FETiJVfI1lN4",
        "outputId": "3e224988-13d1-470b-ac71-0bec042eed8e"
      },
      "outputs": [
        {
          "data": {
            "text/plain": [
              "array([[ 1.,  1.],\n",
              "       [ 1.,  2.],\n",
              "       [ 1.,  3.],\n",
              "       [ 1.,  5.],\n",
              "       [ 1.,  7.],\n",
              "       [ 1., 10.],\n",
              "       [ 1., 11.],\n",
              "       [ 1., 15.],\n",
              "       [ 1., 20.],\n",
              "       [ 1., 25.],\n",
              "       [ 1., 33.],\n",
              "       [ 1., 38.],\n",
              "       [ 1., 40.],\n",
              "       [ 1., 42.],\n",
              "       [ 1., 45.],\n",
              "       [ 1., 50.],\n",
              "       [ 1., 55.],\n",
              "       [ 1., 56.]])"
            ]
          },
          "execution_count": 5,
          "metadata": {},
          "output_type": "execute_result"
        }
      ],
      "source": [
        "X_data"
      ]
    },
    {
      "cell_type": "code",
      "execution_count": 6,
      "metadata": {
        "colab": {
          "base_uri": "https://localhost:8080/"
        },
        "id": "BCKh9yPW1lQg",
        "outputId": "b1288bc8-9f31-4afc-949d-88854478342b"
      },
      "outputs": [
        {
          "data": {
            "text/plain": [
              "(18, 1)"
            ]
          },
          "execution_count": 6,
          "metadata": {},
          "output_type": "execute_result"
        }
      ],
      "source": [
        "y_data.shape"
      ]
    },
    {
      "cell_type": "code",
      "execution_count": 7,
      "metadata": {
        "id": "CZLhZqELejKn"
      },
      "outputs": [],
      "source": [
        "linear_model = Linear_Regression(X_data, y_data)"
      ]
    },
    {
      "cell_type": "code",
      "execution_count": 8,
      "metadata": {
        "colab": {
          "base_uri": "https://localhost:8080/"
        },
        "id": "YXFO_9aaejMq",
        "outputId": "1ebbcbb0-8924-4efd-80f9-1dc052636eed"
      },
      "outputs": [],
      "source": [
        "loss, weight = linear_model.fit()"
      ]
    },
    {
      "cell_type": "code",
      "execution_count": 9,
      "metadata": {
        "colab": {
          "base_uri": "https://localhost:8080/"
        },
        "id": "h_I7NgR5ejOf",
        "outputId": "d7a5677a-4bbb-4b78-b0b5-c53ad3392b1a"
      },
      "outputs": [
        {
          "data": {
            "text/plain": [
              "array([[0.26121704],\n",
              "       [1.9892484 ]])"
            ]
          },
          "execution_count": 9,
          "metadata": {},
          "output_type": "execute_result"
        }
      ],
      "source": [
        "weight"
      ]
    },
    {
      "cell_type": "code",
      "execution_count": 10,
      "metadata": {
        "colab": {
          "base_uri": "https://localhost:8080/",
          "height": 466
        },
        "id": "DImQKVvLA6s5",
        "outputId": "82665a9a-413c-4b4b-e017-c944a4078833"
      },
      "outputs": [
        {
          "data": {
            "text/plain": [
              "<function matplotlib.pyplot.show(close=None, block=None)>"
            ]
          },
          "execution_count": 10,
          "metadata": {},
          "output_type": "execute_result"
        },
        {
          "data": {
            "image/png": "[encoded data removed]",
            "text/plain": [
              "<Figure size 640x480 with 1 Axes>"
            ]
          },
          "metadata": {},
          "output_type": "display_data"
        }
      ],
      "source": [
        "import matplotlib.pyplot as plt\n",
        "\n",
        "plt.plot(loss[:100])\n",
        "plt.xlabel(\"epoch\")\n",
        "plt.ylabel(\"loss\")\n",
        "\n",
        "plt.show"
      ]
    },
    {
      "cell_type": "code",
      "execution_count": 11,
      "metadata": {
        "id": "dPqKyOvGyrvT"
      },
      "outputs": [],
      "source": [
        "def MSE(y_pred, y_data):\n",
        "  loss = (y_pred - y_data)**2\n",
        "  return np.mean(loss)"
      ]
    },
    {
      "cell_type": "code",
      "execution_count": 12,
      "metadata": {
        "colab": {
          "base_uri": "https://localhost:8080/"
        },
        "id": "yp-Ez-3FkR6I",
        "outputId": "4709ad43-b366-4444-badf-7ab5d1fb05bd"
      },
      "outputs": [
        {
          "name": "stdout",
          "output_type": "stream",
          "text": [
            "[[ 1  2  3  5  7 10 11 15 20 25 33 38 40 42 45 50 55 56]]\n",
            "[[  2.25046544]\n",
            " [  4.23971384]\n",
            " [  6.22896224]\n",
            " [ 10.20745904]\n",
            " [ 14.18595584]\n",
            " [ 20.15370104]\n",
            " [ 22.14294944]\n",
            " [ 30.09994304]\n",
            " [ 40.04618503]\n",
            " [ 49.99242703]\n",
            " [ 65.90641423]\n",
            " [ 75.85265622]\n",
            " [ 79.83115302]\n",
            " [ 83.80964982]\n",
            " [ 89.77739502]\n",
            " [ 99.72363702]\n",
            " [109.66987901]\n",
            " [111.65912741]]\n"
          ]
        }
      ],
      "source": [
        "y_pred = linear_model.predict(X_data)\n",
        "print(X_raw.reshape(1, -1))\n",
        "print(y_pred)\n",
        "# mse = MSE(y_pred, y_data)\n",
        "# mse"
      ]
    },
    {
      "cell_type": "code",
      "execution_count": 13,
      "metadata": {
        "colab": {
          "base_uri": "https://localhost:8080/",
          "height": 449
        },
        "id": "Xb1ujWCy35wo",
        "outputId": "bd899fab-6443-482a-bbac-2288aa6c99ad"
      },
      "outputs": [
        {
          "data": {
            "image/png": "[encoded data removed]",
            "text/plain": [
              "<Figure size 640x480 with 1 Axes>"
            ]
          },
          "metadata": {},
          "output_type": "display_data"
        }
      ],
      "source": [
        "plt.scatter(X_raw, y_data)\n",
        "plt.xlabel(\"x value\")\n",
        "plt.ylabel(\"y value\")\n",
        "w, b = weight[0], weight[1]\n",
        "y_pred = [b*x + w for x in X_raw]\n",
        "plt.plot(X_raw, y_pred)\n",
        "plt.show()"
      ]
    }
  ],
  "metadata": {
    "colab": {
      "provenance": []
    },
    "kernelspec": {
      "display_name": "Python 3 (ipykernel)",
      "language": "python",
      "name": "python3"
    },
    "language_info": {
      "codemirror_mode": {
        "name": "ipython",
        "version": 3
      },
      "file_extension": ".py",
      "mimetype": "text/x-python",
      "name": "python",
      "nbconvert_exporter": "python",
      "pygments_lexer": "ipython3",
      "version": "3.11.2"
    }
  },
  "nbformat": 4,
  "nbformat_minor": 0
}
